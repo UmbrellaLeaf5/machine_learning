{
 "cells": [
  {
   "cell_type": "markdown",
   "metadata": {},
   "source": [
    "# Введение в логистическую регрессию\n",
    "\n",
    "Когда специалисты по анализу данных сталкиваются с новой задачей классификации, первым алгоритмом, который приходит им на ум, является **логистическая регрессия**. Это алгоритм классификации с учителем, который используется для предсказания принадлежности наблюдений к дискретному набору классов. На практике он используется для классификации наблюдений по различным категориям. Следовательно, его результат носит дискретный характер. **Логистическая регрессия** также называется **Логит-регрессией**. Это один из самых простых, понятных и универсальных алгоритмов классификации, используемых для решения задач классификации.\n",
    "\n",
    "### Алгоритм логистической регрессии говорит \"с какой вероятностью объект принадлежит к определенному классу\"\n",
    "### Результат работы - значение от 0 до 1\n",
    "\n",
    "Алгоритм логистической регрессии работает следующим образом:"
   ]
  },
  {
   "cell_type": "markdown",
   "metadata": {},
   "source": [
    "## Примеры задач\n",
    "\n",
    "### 1. Медицина\n",
    "\n",
    "Прогнозирование заболевания:\n",
    "На основании симптомов, анализов крови и возраста пациента предсказать, есть ли у него определённое заболевание (например, диабет, сердечно-сосудистое заболевание).\n",
    "\n",
    "Классификация опухолей:\n",
    "По характеристикам опухоли (размер, плотность, текстура на снимках) — доброкачественная или злокачественная.\n",
    "\n",
    "### 2. Финансы\n",
    "\n",
    "Скоринг клиентов в банке:\n",
    "По истории платежей, доходу, возрасту, задолженностям предсказать, вернёт ли человек кредит (да/нет).\n",
    "\n",
    "Обнаружение мошенничества:\n",
    "По транзакции (сумма, место, время) классифицировать её как «нормальная» или «подозрительная».\n",
    "\n",
    "### 3. Маркетинг и бизнес\n",
    "\n",
    "Прогноз отклика на рекламу:\n",
    "Будет ли клиент кликать по рекламному баннеру или нет.\n",
    "\n",
    "Отток клиентов:\n",
    "Останется ли клиент пользоваться услугой или уйдёт к конкуренту.\n",
    "\n",
    "### 4. Социальные сети и интернет-сервисы\n",
    "\n",
    "Классификация спама:\n",
    "Письмо/сообщение — спам или нет.\n",
    "\n",
    "Токсичность комментариев:\n",
    "Текст комментария классифицируется как оскорбительный/неоскорбительный.\n",
    "\n",
    "### 5. Промышленность и инженерия\n",
    "\n",
    "Дефект продукции:\n",
    "По характеристикам изделия с конвейера определить, является ли оно бракованным.\n",
    "\n",
    "Предсказание поломок:\n",
    "По показаниям датчиков прогнозировать, выйдет ли оборудование из строя в ближайшее время."
   ]
  },
  {
   "cell_type": "markdown",
   "metadata": {},
   "source": [
    "## **Линейное уравнение**\n",
    "\n",
    "Алгоритм логистической регрессии работает, реализуя линейное уравнение с независимыми переменными для прогнозирования значения отклика. Например, рассмотрим задачу прогнозирования вероятности сдачи экзамена в зависимости от количества часов обучения. Количество часов обучения является переменной и обозначается как x1. Вероятность сдачи экзамена является целевой переменной (таргетом) и обозначается как z (иногда y).\n",
    "\n",
    "Если у нас есть одна переменная (x1) и один таргет (z), то линейное уравнение будет математически записано следующим образом:\n",
    "\n",
    "z = w0 + w1x1\n",
    "\n",
    "Здесь коэффициенты w0 и w1 являются весами модели.\n",
    "\n",
    "Если имеется несколько переменных, то приведенное целевая функция принимает вид:\n",
    "\n",
    "$z = w0 + w1x1+ w2x2+……..+ wnxn$"
   ]
  },
  {
   "cell_type": "markdown",
   "metadata": {},
   "source": [
    "## **Сигмоидальная функция**\n",
    "\n",
    "Найденное значение z может быть любым числом, а нам нужна вероятность принадлежности классу.\n",
    "\n",
    "### Как получена функция сигмоиды\n",
    "\n",
    "Формула сигмоиды $σ(z) = 1 / (1 + e^{-z})$ вытекает из концепции отношения шансов (Odds Ratio).\n",
    "\n",
    "Например, если вероятность: P = 0.8 (шанс на успех 80%, что объект класса 1), то шанс \n",
    "\n",
    "P / (1 - P) = 0.8 / 0.2 = 4\n",
    "То есть \"шансы на успех относятся к шансам на неудачу как 4 к 1\".\n",
    "\n",
    "#### Логит-функция (Log-Odds)\n",
    "Шансы могут быть от 0 до +∞. Чтобы избавиться от ограничения снизу, мы берем натуральный логарифм и получаем логит.\n",
    "\n",
    "$Logit(P) = ln(Odds) = ln( P / (1 - P) )$\n",
    "\n",
    "Теперь значение может быть любым числом от -∞ до +∞.\n",
    "\n",
    "#### Связь с линейной моделью\n",
    "Идея логистической регрессии в том, что линейная комбинация признаков z = w₀ + w₁x₁ + ... моделирует именно этот логит (логарифм шансов).\n",
    "z = ln( P / (1 - P) )\n",
    "\n",
    "#### Вывод сигмоиды\n",
    "Теперь мы можем выразить вероятность P через z:\n",
    "\n",
    "z = ln( P / (1 - P) )\n",
    "\n",
    "e^z = P / (1 - P) (экспоненцируем обе части)\n",
    "\n",
    "e^z * (1 - P) = P\n",
    "\n",
    "e^z - e^z * P = P\n",
    "\n",
    "e^z = P + e^z * P = P(1 + e^z)\n",
    "\n",
    "P = e^z / (1 + e^z)\n",
    "\n",
    "Разделим числитель и знаменатель на e^z:\n",
    "\n",
    "P = 1 / (e^{-z} + 1) = 1 / (1 + e^{-z})\n",
    "\n",
    "Вывод: Сигмоида — это просто обратное преобразование от логита. Она переводит линейную комбинацию z (которая моделирует логарифм шансов) обратно в удобочитаемую вероятность.\n",
    "\n",
    "\n",
    "Для этого предсказанное значение отклика z, преобразуется в значение вероятности, лежащее в диапазоне от 0 до 1 с использованием сигмоидальной функции.\n",
    "Сигмоидальная функция задаётся математической формулой и представляется на графике как показано ниже.\n",
    "\n",
    "![Sigmoid Function](data/sigmoid.jpg)\n"
   ]
  },
  {
   "cell_type": "markdown",
   "metadata": {},
   "source": [
    "## **Граница принятия решения**\n",
    "\n",
    "Сигмоидальная функция возвращает значение вероятности в диапазоне от 0 до 1. Это значение вероятности затем сопоставляется с дискретным классом, который может быть «0» или «1». Чтобы сопоставить это значение вероятности с дискретным классом (пройдено/не пройдено, да/нет, истинно/ложно), мы выбираем пороговое значение. Это пороговое значение называется границей принятия решения. Значения вероятности, превышающие это пороговое значение, относятся к классу 1, а значения, ниже этого порогового значения, — к классу 0.\n",
    "\n",
    "Математически это можно выразить следующим образом:\n",
    "\n",
    "p ≥ 0,5 => класс = 1\n",
    "\n",
    "p < 0,5 => класс = 0\n",
    "\n",
    "- Если z очень большое положительное число, то e^{-z} будет близко к 0, и вероятность P будет близка к 1 (скажем, 0.95 или 95%).\n",
    "- Если z очень большое отрицательное число, то e^{-z} будет огромным, и вероятность P будет близка к 0 (скажем, 0.05 или 5%).\n",
    "- Если z = 0, то вероятность P = 0.5 (50% - полная неопределенность, если это граница принятия решения).\n"
   ]
  },
  {
   "cell_type": "markdown",
   "metadata": {},
   "source": [
    "Граница может быть смещена в большую или меньшую сторону. Например, при продаже элитных товаров, мы можем повысить порог, чтобы не делать предложения тем, кто врятли их купит. "
   ]
  },
  {
   "cell_type": "markdown",
   "metadata": {},
   "source": [
    "![Decision boundary in sigmoid function](https://ml-cheatsheet.readthedocs.io/en/latest/_images/logistic_regression_sigmoid_w_threshold.png)"
   ]
  },
  {
   "cell_type": "markdown",
   "metadata": {},
   "source": []
  },
  {
   "cell_type": "markdown",
   "metadata": {},
   "source": [
    "## **Создание прогнозов**\n",
    "\n",
    "Теперь мы знаем о сигмоидальной функции и границе принятия решений в логистической регрессии. \n",
    "Мы можем использовать наши знания о сигмоидальной функции и границе принятия решений для записи функции прогнозирования. Функция прогнозирования в логистической регрессии возвращает вероятность того, что наблюдение будет положительным, «Да» или «Истина». Мы называем это классом 1 и обозначаем P (класс = 1). Если вероятность приближается к единице, то мы более уверены в том, что наша модель соответствует классу 1, в противном случае — классу 0."
   ]
  },
  {
   "cell_type": "markdown",
   "metadata": {},
   "source": [
    "# Максимальное правдоподобие\n",
    "\n",
    "Вопрос: какие параметры модели (веса w) с наибольшей вероятностью породили бы наши наблюдаемые данные?\n",
    "Формулируем аккуратно.\n",
    "\n",
    "---\n",
    "\n",
    "### 1. Модель логистической регрессии\n",
    "\n",
    "Вероятность отклика в логистической регрессии задаётся через **сигмоиду**:\n",
    "$\n",
    "P(y_i = 1 \\mid x_i, w) = \\sigma(w^\\top x_i) = \\frac{1}{1 + e^{-w^\\top x_i}}.\n",
    "$\n",
    "\n",
    "Соответственно:\n",
    "$\n",
    "P(y_i = 0 \\mid x_i, w) = 1 - \\sigma(w^\\top x_i).\n",
    "$\n",
    "\n",
    "---\n",
    "\n",
    "### 2. Функция правдоподобия\n",
    "Функция правдоподобия (Likelihood) — это вероятность наблюдать все наши данные при текущих весах модели. Для объекта с классом 1 мы вносим в правдоподобие P_i, а для объекта с классом 0 — (1 - P_i):\n",
    "\n",
    "$\n",
    "L(w) = \\prod_{i=1}^n P(y_i \\mid x_i, w).\n",
    "$\n",
    "\n",
    "Подставим вероятности:\n",
    "$\n",
    "L(w) = \\prod_{i=1}^n \\big[ \\sigma(w^\\top x_i)^{y_i} , \\big(1 - \\sigma(w^\\top x_i)\\big)^{1-y_i} \\big].\n",
    "$\n",
    "\n",
    "---\n",
    "\n",
    "### 3. Логарифм правдоподобия\n",
    "\n",
    "Для удобства максимизации берем логарифм:\n",
    "$\n",
    "\\log L(w) = \\sum_{i=1}^n \\Big( y_i \\log \\sigma(w^\\top x_i) + (1 - y_i)\\log \\big(1 - \\sigma(w^\\top x_i)\\big)\\Big).\n",
    "$\n",
    "\n",
    "---\n",
    "\n",
    "### 4. Задача максимального правдоподобия\n",
    "Задача обучения — найти такие веса w, которые максимизируют LL(w). Это делается с помощью, например, градиентного подъема:\n",
    "$\n",
    "\\hat{w} = \\arg\\max_{w} ; \\ell(w).\n",
    "$\n",
    "\n",
    "Или эквивалентно — **минимизация отрицательного логарифма правдоподобия (NLL / log-loss):**\n",
    "$\n",
    "\\hat{w} = \\arg\\min_{w} ; \\Big[ - \\sum_{i=1}^n \\big( y_i \\log \\sigma(w^\\top x_i) + (1-y_i)\\log(1 - \\sigma(w^\\top x_i)) \\big) \\Big].\n",
    "$\n",
    "\n"
   ]
  },
  {
   "cell_type": "markdown",
   "metadata": {},
   "source": [
    "# **4. Типы логистической регрессии** <a class=\"anchor\" id=\"4\"></a>\n",
    "\n",
    "Модели логистической регрессии можно разделить на три группы в зависимости от категорий целевой переменной. Эти три группы описаны ниже:\n",
    "\n",
    "### 1. Бинарная логистическая регрессия (классификация)\n",
    "\n",
    "В бинарной логистической регрессии целевая переменная имеет две возможные категории. Распространенные примеры категорий: «да» или «нет», «хорошо» или «плохо», «истина» или «ложь», «спам» или «не спам» и «пройдено» или «не пройдено».\n",
    "\n",
    "### 2. Многоклассовая логистическая регрессия \n",
    "\n",
    "Чтобы предсказывать эти классы с помощью линейных моделей, задача многоклассовой классификации сводится к набору бинарных. Мы разберём два самых популярных способа это сделать – one-vs-all и all-vs-all\n"
   ]
  },
  {
   "cell_type": "markdown",
   "metadata": {},
   "source": [
    "## Многоклассовая классификация \n",
    "One-vs-all или All-vs-all\n",
    "\n",
    "![1vsall](data/one-vs-all.png)\n",
    "\n",
    "![1vsall2](data/one-vs-all2.png)\n",
    "\n"
   ]
  },
  {
   "cell_type": "markdown",
   "metadata": {},
   "source": [
    "# Метрики классификации\n"
   ]
  },
  {
   "cell_type": "markdown",
   "metadata": {},
   "source": [
    "## Матрица ошибок\n",
    "\n",
    "![errmatrix](data/error-matrix.png)\n",
    "\n",
    "TP (True Positive) — модель правильно предсказала положительный класс.\n",
    "\n",
    "TN (True Negative) — модель правильно предсказала отрицательный класс.\n",
    "\n",
    "FP (False Positive) — модель ошибочно присвоила объекту класс 1 (ложное срабатывание).\n",
    "\n",
    "FN (False Negative) — модель ошибочно не распознала объект класса 1."
   ]
  },
  {
   "cell_type": "markdown",
   "metadata": {},
   "source": [
    "## Основные метрики"
   ]
  },
  {
   "cell_type": "markdown",
   "metadata": {},
   "source": [
    "## Accuracy (доля правильных ответов)\n",
    "\n",
    "(TP + TN) / (TP + TN + FP + FN)\n",
    "\n",
    "Показывает, какая доля предсказаний верна.\n",
    "\n",
    "Хорошо работает, когда классы сбалансированы (и цена ошибок FP и FN примерно одинакова).\n",
    "\n",
    "Плохо при сильном дисбалансе (например, 99% «здоровые», 1% «больные» — модель всегда говорит «здоров» и получает 99% accuracy, но бесполезна)."
   ]
  },
  {
   "cell_type": "markdown",
   "metadata": {},
   "source": [
    "## Precision (точность, позитивная предсказательная ценность)\n",
    "\n",
    "TP / (TP + FP)\n",
    "\n",
    "Из всех предсказанных «положительных» сколько действительно положительные.\n",
    "\n",
    "Важно, когда дорогая ошибка — ложное срабатывание (FP).\n",
    "\n",
    "Пример: фильтр спама. Если precision низкий, то «нормальные письма» попадают в папку спам → это очень плохо."
   ]
  },
  {
   "cell_type": "markdown",
   "metadata": {},
   "source": [
    "## Recall (полнота, чувствительность, True Positive Rate)\n",
    "\n",
    "TP / (TP + FN)\n",
    "\n",
    "Из всех реальных «положительных» сколько модель правильно нашла.\n",
    "\n",
    "Важно, когда дорогая ошибка — пропустить положительный случай (FN).\n",
    "\n",
    "Пример: диагностика рака. Лучше поднять тревогу лишний раз (FP), чем пропустить больного пациента (FN)."
   ]
  },
  {
   "cell_type": "markdown",
   "metadata": {},
   "source": [
    "## Specificity (специфичность, True Negative Rate)\n",
    "\n",
    "TN / (TN + FP)\n",
    "\n",
    "Из всех отрицательных сколько верно классифицировано.\n",
    "\n",
    "Дополняет Recall.\n",
    "\n",
    "Пример: когда даёт ложные срабатывания (не обвинит невиновного)."
   ]
  },
  {
   "cell_type": "markdown",
   "metadata": {},
   "source": [
    "## F1-score\n",
    "\n",
    "2 * (Precision * Recall) / (Precision + Recall)\n",
    "\n",
    "Гармоническое среднее Precision и Recall.\n",
    "\n",
    "Хорош, когда нужно балансировать между FP и FN.\n",
    "\n",
    "Пример: поиск подозрительных транзакций в банке. Важно и не пропустить мошенничество (Recall), и не блокировать невинные платежи (Precision)."
   ]
  },
  {
   "cell_type": "markdown",
   "metadata": {},
   "source": [
    "# Примеры для наглядности\n",
    "from [labellf.io](https://www.labelf.ai/blog/what-is-accuracy-precision-recall-and-f1-score)\n",
    "\n"
   ]
  },
  {
   "cell_type": "markdown",
   "metadata": {},
   "source": [
    "## ROC-AUC (площадь под ROC-кривой)\n",
    "\n",
    "ROC-кривая: график зависимости Recall (True positive rate, TPR) от FPR (False Positive Rate) при варьировании порога классификации.\n",
    "\n",
    "AUC (Area Under Curve): чем выше, тем лучше.\n",
    "\n",
    "ROC: Receiver Operating Characteristic\n",
    "\n",
    "TPR = TP / (TP + FN) - насколько хорошо мы находим действительно больных (найденных больных делим на всего больных)\n",
    "\n",
    "FPR = FP / (FP + TN) - насколько часто мы ошибаемся в определении БОЛЬНЫХ (количетсво здоровых, которых назвали больными делим на всего здоровых)\n",
    "\n",
    "Измеряет, насколько хорошо модель ранжирует объекты (отделяет классы).\n",
    "\n",
    "- Пример: кредитный скоринг. Не важен конкретный порог, главное — правильно ранжировать клиентов по риску."
   ]
  },
  {
   "cell_type": "code",
   "execution_count": 1,
   "metadata": {},
   "outputs": [
    {
     "data": {
      "image/png": "[encoded data removed]",
      "text/plain": [
       "<Figure size 640x480 with 1 Axes>"
      ]
     },
     "metadata": {},
     "output_type": "display_data"
    }
   ],
   "source": [
    "import matplotlib.pyplot as plt\n",
    "import numpy as np\n",
    "\n",
    "# пример кривых\n",
    "fpr = np.linspace(0, 1, 100)\n",
    "plt.plot(fpr, fpr, 'k--', label=\"Случайная (AUC=0.5)\")\n",
    "plt.plot(fpr, fpr**2, label=\"Хорошая модель (AUC≈0.67)\")\n",
    "plt.plot(fpr, fpr**0.5, label=\"Лучшая модель (AUC≈0.83)\")\n",
    "plt.plot([0,0,1],[0,1,1], label=\"Идеальная (AUC=1.0)\")\n",
    "\n",
    "plt.xlabel(\"FPR (ложноположительные)\")\n",
    "plt.ylabel(\"TPR (чувствительность)\")\n",
    "plt.title(\"ROC-кривые\")\n",
    "plt.legend()\n",
    "plt.show()"
   ]
  },
  {
   "cell_type": "markdown",
   "metadata": {},
   "source": [
    "![errmatrix](data/roc-auc.png)"
   ]
  },
  {
   "cell_type": "markdown",
   "metadata": {},
   "source": [
    "### Интерпретация графика\n",
    "\n",
    "- Точка (0,0) — «всех считаем отрицательными»\n",
    "- Точка (1,1) — «всех считаем положительными»\n",
    "- Диагональ (линия y = x) — ???.\n",
    "\n",
    "Чем ближе ROC-кривая к верхнему левому углу (0,1), тем модель лучше."
   ]
  },
  {
   "cell_type": "markdown",
   "metadata": {},
   "source": [
    "# Когда какую метрику выбирать\n",
    "\n",
    "Accuracy — только при сбалансированных классах.\n",
    "\n",
    "Precision — когда ложные срабатывания хуже пропусков.\n",
    "- ПРИМЕР: Спам-фильтр, рекомендательные системы (лучше не рекомендовать, чем рекомендовать мусор).\n",
    "\n",
    "Recall — когда пропуск стоит дорого.\n",
    "- ПРИМЕР: Медицинские тесты, системы безопасности (лучше проверить лишний раз).\n",
    "\n",
    "F1-score — когда важен баланс Precision и Recall.\n",
    "- ПРИМЕР: Поиск мошенничества, информационный поиск.\n",
    "\n",
    "ROC-AUC — когда важна способность модели отделять классы при любом пороге.\n",
    "- ПРИМЕР: Кредитный скоринг, маркетинговые прогнозы.\n",
    "\n",
    "PR-AUC — при дисбалансе классов.\n",
    "- ПРИМЕР: Фрод, редкие заболевания."
   ]
  }
 ],
 "metadata": {
  "kaggle": {
   "accelerator": "none",
   "dataSources": [
    {
     "datasetId": 6012,
     "sourceId": 1733506,
     "sourceType": "datasetVersion"
    }
   ],
   "dockerImageVersionId": 29849,
   "isGpuEnabled": false,
   "isInternetEnabled": false,
   "language": "python",
   "sourceType": "notebook"
  },
  "kernelspec": {
   "display_name": "base",
   "language": "python",
   "name": "python3"
  },
  "language_info": {
   "codemirror_mode": {
    "name": "ipython",
    "version": 3
   },
   "file_extension": ".py",
   "mimetype": "text/x-python",
   "name": "python",
   "nbconvert_exporter": "python",
   "pygments_lexer": "ipython3",
   "version": "3.12.4"
  }
 },
 "nbformat": 4,
 "nbformat_minor": 4
}
