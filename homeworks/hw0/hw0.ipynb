{
 "cells": [
  {
   "cell_type": "markdown",
   "id": "a4f840a1-2549-4975-b6a5-41dba3e0d4e3",
   "metadata": {
    "id": "AGf_xvZiT0Ww"
   },
   "source": [
    "# Домашнее задание № 0\n",
    "\n",
    "Вам необходимо провести анализ данных и с помощью него ответить на поставленные вопросы.\n",
    "\n",
    "# Исходные данные\n",
    "\n",
    "Этот набор данных представляет собой описание около 1 миллиона треков с платформы Spotify. Скачайте датасет и ознакомьтесь с описанием данных в [источнике](https://www.kaggle.com/datasets/amitanshjoshi/spotify-1million-tracks/data).\n"
   ]
  },
  {
   "cell_type": "code",
   "execution_count": 50,
   "id": "4a5891dd-779a-4815-930e-411c69cd8033",
   "metadata": {
    "_cell_guid": "87372d85-e9ac-b3b3-c25d-33dfb357ccd8",
    "id": "pQ5OrqpATtVl"
   },
   "outputs": [],
   "source": [
    "import pandas as pd"
   ]
  },
  {
   "cell_type": "code",
   "execution_count": 51,
   "id": "dc6f9f35-0cff-4ffb-96f6-06269c8764ca",
   "metadata": {
    "id": "cE9FdACVcBHd"
   },
   "outputs": [],
   "source": [
    "# Читаем данные\n",
    "path = \"spotify_data.csv\"\n",
    "df = pd.read_csv(path, index_col=0)"
   ]
  },
  {
   "cell_type": "code",
   "execution_count": 52,
   "id": "c48be23c-d167-4706-9038-cd18db108f72",
   "metadata": {},
   "outputs": [
    {
     "data": {
      "application/vnd.microsoft.datawrangler.viewer.v0+json": {
       "columns": [
        {
         "name": "index",
         "rawType": "object",
         "type": "string"
        },
        {
         "name": "1133118",
         "rawType": "object",
         "type": "unknown"
        },
        {
         "name": "1423857",
         "rawType": "object",
         "type": "unknown"
        },
        {
         "name": "803616",
         "rawType": "object",
         "type": "unknown"
        }
       ],
       "ref": "a50dad01-a1be-4629-b814-e080c718b9f1",
       "rows": [
        [
         "artist_name",
         "iwrestledabearonce",
         "Hightide Hotel",
         "Tullycraft"
        ],
        [
         "track_name",
         "Corey Feldman Holocaust",
         "I'm Just Sippin' On Monster, Thinkin' About Life",
         "Who Needs What"
        ],
        [
         "track_id",
         "0tw1HoHNpEpSvnU4cdCpcB",
         "6tSK3LhIFlND8uCjkEUo6Y",
         "0bnSM3UtLJirR6LALVW054"
        ],
        [
         "popularity",
         "15",
         "18",
         "2"
        ],
        [
         "year",
         "2007",
         "2011",
         "2002"
        ],
        [
         "genre",
         "death-metal",
         "emo",
         "club"
        ],
        [
         "danceability",
         "0.278",
         "0.387",
         "0.709"
        ],
        [
         "energy",
         "0.969",
         "0.835",
         "0.41"
        ],
        [
         "key",
         "7",
         "9",
         "4"
        ],
        [
         "loudness",
         "-4.132",
         "-5.669",
         "-4.709"
        ],
        [
         "mode",
         "1",
         "1",
         "1"
        ],
        [
         "speechiness",
         "0.162",
         "0.0346",
         "0.0293"
        ],
        [
         "acousticness",
         "0.102",
         "1.21e-05",
         "0.449"
        ],
        [
         "instrumentalness",
         "0.722",
         "1.47e-05",
         "0.588"
        ],
        [
         "liveness",
         "0.445",
         "0.0613",
         "0.157"
        ],
        [
         "valence",
         "0.171",
         "0.57",
         "0.668"
        ],
        [
         "tempo",
         "114.367",
         "118.605",
         "99.252"
        ],
        [
         "duration_ms",
         "244376",
         "194960",
         "195013"
        ],
        [
         "time_signature",
         "4",
         "4",
         "4"
        ]
       ],
       "shape": {
        "columns": 3,
        "rows": 19
       }
      },
      "text/html": [
       "<div>\n",
       "<style scoped>\n",
       "    .dataframe tbody tr th:only-of-type {\n",
       "        vertical-align: middle;\n",
       "    }\n",
       "\n",
       "    .dataframe tbody tr th {\n",
       "        vertical-align: top;\n",
       "    }\n",
       "\n",
       "    .dataframe thead th {\n",
       "        text-align: right;\n",
       "    }\n",
       "</style>\n",
       "<table border=\"1\" class=\"dataframe\">\n",
       "  <thead>\n",
       "    <tr style=\"text-align: right;\">\n",
       "      <th></th>\n",
       "      <th>1133118</th>\n",
       "      <th>1423857</th>\n",
       "      <th>803616</th>\n",
       "    </tr>\n",
       "  </thead>\n",
       "  <tbody>\n",
       "    <tr>\n",
       "      <th>artist_name</th>\n",
       "      <td>iwrestledabearonce</td>\n",
       "      <td>Hightide Hotel</td>\n",
       "      <td>Tullycraft</td>\n",
       "    </tr>\n",
       "    <tr>\n",
       "      <th>track_name</th>\n",
       "      <td>Corey Feldman Holocaust</td>\n",
       "      <td>I'm Just Sippin' On Monster, Thinkin' About Life</td>\n",
       "      <td>Who Needs What</td>\n",
       "    </tr>\n",
       "    <tr>\n",
       "      <th>track_id</th>\n",
       "      <td>0tw1HoHNpEpSvnU4cdCpcB</td>\n",
       "      <td>6tSK3LhIFlND8uCjkEUo6Y</td>\n",
       "      <td>0bnSM3UtLJirR6LALVW054</td>\n",
       "    </tr>\n",
       "    <tr>\n",
       "      <th>popularity</th>\n",
       "      <td>15</td>\n",
       "      <td>18</td>\n",
       "      <td>2</td>\n",
       "    </tr>\n",
       "    <tr>\n",
       "      <th>year</th>\n",
       "      <td>2007</td>\n",
       "      <td>2011</td>\n",
       "      <td>2002</td>\n",
       "    </tr>\n",
       "    <tr>\n",
       "      <th>genre</th>\n",
       "      <td>death-metal</td>\n",
       "      <td>emo</td>\n",
       "      <td>club</td>\n",
       "    </tr>\n",
       "    <tr>\n",
       "      <th>danceability</th>\n",
       "      <td>0.278</td>\n",
       "      <td>0.387</td>\n",
       "      <td>0.709</td>\n",
       "    </tr>\n",
       "    <tr>\n",
       "      <th>energy</th>\n",
       "      <td>0.969</td>\n",
       "      <td>0.835</td>\n",
       "      <td>0.41</td>\n",
       "    </tr>\n",
       "    <tr>\n",
       "      <th>key</th>\n",
       "      <td>7</td>\n",
       "      <td>9</td>\n",
       "      <td>4</td>\n",
       "    </tr>\n",
       "    <tr>\n",
       "      <th>loudness</th>\n",
       "      <td>-4.132</td>\n",
       "      <td>-5.669</td>\n",
       "      <td>-4.709</td>\n",
       "    </tr>\n",
       "    <tr>\n",
       "      <th>mode</th>\n",
       "      <td>1</td>\n",
       "      <td>1</td>\n",
       "      <td>1</td>\n",
       "    </tr>\n",
       "    <tr>\n",
       "      <th>speechiness</th>\n",
       "      <td>0.162</td>\n",
       "      <td>0.0346</td>\n",
       "      <td>0.0293</td>\n",
       "    </tr>\n",
       "    <tr>\n",
       "      <th>acousticness</th>\n",
       "      <td>0.102</td>\n",
       "      <td>0.000012</td>\n",
       "      <td>0.449</td>\n",
       "    </tr>\n",
       "    <tr>\n",
       "      <th>instrumentalness</th>\n",
       "      <td>0.722</td>\n",
       "      <td>0.000015</td>\n",
       "      <td>0.588</td>\n",
       "    </tr>\n",
       "    <tr>\n",
       "      <th>liveness</th>\n",
       "      <td>0.445</td>\n",
       "      <td>0.0613</td>\n",
       "      <td>0.157</td>\n",
       "    </tr>\n",
       "    <tr>\n",
       "      <th>valence</th>\n",
       "      <td>0.171</td>\n",
       "      <td>0.57</td>\n",
       "      <td>0.668</td>\n",
       "    </tr>\n",
       "    <tr>\n",
       "      <th>tempo</th>\n",
       "      <td>114.367</td>\n",
       "      <td>118.605</td>\n",
       "      <td>99.252</td>\n",
       "    </tr>\n",
       "    <tr>\n",
       "      <th>duration_ms</th>\n",
       "      <td>244376</td>\n",
       "      <td>194960</td>\n",
       "      <td>195013</td>\n",
       "    </tr>\n",
       "    <tr>\n",
       "      <th>time_signature</th>\n",
       "      <td>4</td>\n",
       "      <td>4</td>\n",
       "      <td>4</td>\n",
       "    </tr>\n",
       "  </tbody>\n",
       "</table>\n",
       "</div>"
      ],
      "text/plain": [
       "                                  1133118  \\\n",
       "artist_name            iwrestledabearonce   \n",
       "track_name        Corey Feldman Holocaust   \n",
       "track_id           0tw1HoHNpEpSvnU4cdCpcB   \n",
       "popularity                             15   \n",
       "year                                 2007   \n",
       "genre                         death-metal   \n",
       "danceability                        0.278   \n",
       "energy                              0.969   \n",
       "key                                     7   \n",
       "loudness                           -4.132   \n",
       "mode                                    1   \n",
       "speechiness                         0.162   \n",
       "acousticness                        0.102   \n",
       "instrumentalness                    0.722   \n",
       "liveness                            0.445   \n",
       "valence                             0.171   \n",
       "tempo                             114.367   \n",
       "duration_ms                        244376   \n",
       "time_signature                          4   \n",
       "\n",
       "                                                           1423857  \\\n",
       "artist_name                                         Hightide Hotel   \n",
       "track_name        I'm Just Sippin' On Monster, Thinkin' About Life   \n",
       "track_id                                    6tSK3LhIFlND8uCjkEUo6Y   \n",
       "popularity                                                      18   \n",
       "year                                                          2011   \n",
       "genre                                                          emo   \n",
       "danceability                                                 0.387   \n",
       "energy                                                       0.835   \n",
       "key                                                              9   \n",
       "loudness                                                    -5.669   \n",
       "mode                                                             1   \n",
       "speechiness                                                 0.0346   \n",
       "acousticness                                              0.000012   \n",
       "instrumentalness                                          0.000015   \n",
       "liveness                                                    0.0613   \n",
       "valence                                                       0.57   \n",
       "tempo                                                      118.605   \n",
       "duration_ms                                                 194960   \n",
       "time_signature                                                   4   \n",
       "\n",
       "                                 803616   \n",
       "artist_name                   Tullycraft  \n",
       "track_name                Who Needs What  \n",
       "track_id          0bnSM3UtLJirR6LALVW054  \n",
       "popularity                             2  \n",
       "year                                2002  \n",
       "genre                               club  \n",
       "danceability                       0.709  \n",
       "energy                              0.41  \n",
       "key                                    4  \n",
       "loudness                          -4.709  \n",
       "mode                                   1  \n",
       "speechiness                       0.0293  \n",
       "acousticness                       0.449  \n",
       "instrumentalness                   0.588  \n",
       "liveness                           0.157  \n",
       "valence                            0.668  \n",
       "tempo                             99.252  \n",
       "duration_ms                       195013  \n",
       "time_signature                         4  "
      ]
     },
     "execution_count": 52,
     "metadata": {},
     "output_type": "execute_result"
    }
   ],
   "source": [
    "df.sample(3).T"
   ]
  },
  {
   "cell_type": "markdown",
   "id": "35bf8b30-dd10-4095-8a10-f36b17f92994",
   "metadata": {
    "id": "i1j9Yn9Jhz-S"
   },
   "source": [
    "# Вопросы\n"
   ]
  },
  {
   "cell_type": "markdown",
   "id": "472ca155-a65f-45f0-99cd-cb3ff2fc21e8",
   "metadata": {},
   "source": [
    "## Анализ данных\n",
    "\n",
    "С помощью работы с типом данных DataFrame из библиотеки pandas ответье на поставленные вопросы\n"
   ]
  },
  {
   "cell_type": "code",
   "execution_count": 53,
   "id": "f46e9e90-d219-4d73-a73c-d7f906469e7b",
   "metadata": {},
   "outputs": [],
   "source": [
    "import numpy as np\n",
    "import matplotlib.pyplot as plt\n",
    "import seaborn as sns\n",
    "from scipy import stats"
   ]
  },
  {
   "cell_type": "markdown",
   "id": "f0a05171-95d4-4051-8710-f2df20ead9fb",
   "metadata": {},
   "source": [
    "### 1. Сколько уникальных исполнителей и сколько уникальных жанров содержится в датасете?\n",
    "\n",
    "**Результат**: Код и текстовый ответ на вопрос в формате\n",
    "\n",
    "```\n",
    "Уникальных исполнителей: <ответ>\n",
    "Уникальных жанров: <ответ>\n",
    "```\n"
   ]
  },
  {
   "cell_type": "code",
   "execution_count": null,
   "id": "7170ea54-484a-41a8-8be7-bcc309fdead0",
   "metadata": {},
   "outputs": [
    {
     "name": "stdout",
     "output_type": "stream",
     "text": [
      "Уникальных исполнителей: 64158\n",
      "Уникальных жанров: 82\n"
     ]
    }
   ],
   "source": [
    "unique_artists = df[\"artist_name\"].nunique()\n",
    "unique_genres = df[\"genre\"].nunique()\n",
    "\n",
    "print(f\"Уникальных исполнителей: {unique_artists}\")\n",
    "print(f\"Уникальных жанров: {unique_genres}\")"
   ]
  },
  {
   "cell_type": "markdown",
   "id": "948d2a73-09bf-43c3-ad7b-6a00cacaaf48",
   "metadata": {},
   "source": [
    "### 2. Есть ли в данных пропуски? Если да, предложите способ их заполнения и реализуйте его\n",
    "\n",
    "**Результат**: Код и текстовый ответ на вопрос в формате\n",
    "\n",
    "```\n",
    "Для каждого столбца в таблице\n",
    "<Название столбца> - <Сколько пропусков> - <Описание способа заполнения> (Если были пропуски)\n",
    "```\n"
   ]
  },
  {
   "cell_type": "code",
   "execution_count": null,
   "id": "cd606c12-207f-423b-b241-a9981a80cb95",
   "metadata": {},
   "outputs": [],
   "source": [
    "# YOUR CODE HERE\n",
    "print(\"Проверка пропусков в данных:\")\n",
    "print(df.isna().sum())\n",
    "\n",
    "# Заполнение пропусков\n",
    "for column in df.columns:\n",
    "  missing_count = df[column].isna().sum()\n",
    "\n",
    "  if missing_count > 0:\n",
    "    if df[column].dtype in [\"float64\", \"int64\"]:\n",
    "      # Для числовых столбцов заполняем медианой\n",
    "      df[column] = df[column].fillna(df[column].median())\n",
    "      print(f\"{column} - {missing_count} - Заполнено медианой\")\n",
    "\n",
    "    else:\n",
    "      # Для категориальных столбцов заполняем модой\n",
    "      df[column] = df[column].fillna(df[column].mode()[0])\n",
    "      print(f\"{column} - {missing_count} - Заполнено модой\")\n",
    "\n",
    "  else:\n",
    "    print(f\"{column} - 0 - Пропусков нет\")"
   ]
  },
  {
   "cell_type": "markdown",
   "id": "ff5fa1ce-fc67-4865-88a1-5834f1919e27",
   "metadata": {},
   "source": [
    "### 3. Есть ли признаки, которые не отвечают указанным в описании ограничениям? Если есть, то замените их\n",
    "\n",
    "**Результат**: Код и текстовый ответ на вопрос в формате\n",
    "\n",
    "```\n",
    "Для каждого столбца в таблице\n",
    "<Название столбца> - <Сколько не соответствующих ограничениям данных> - <Описание способа замены> (Если были некорректные данные)\n",
    "```\n"
   ]
  },
  {
   "cell_type": "code",
   "execution_count": 56,
   "id": "06f5ee4c-bf8f-4bee-928e-2493ed496a66",
   "metadata": {},
   "outputs": [],
   "source": [
    "# YOUR CODE HERE"
   ]
  },
  {
   "cell_type": "markdown",
   "id": "720ed6f9-87ea-4f1f-b73c-48ee5aaad9f1",
   "metadata": {},
   "source": [
    "## Визуальный анализ\n",
    "\n",
    "Ответом на вопрос должен быть график или несколько графиков в одной фигуре (картинке), с минимальной подписью\n"
   ]
  },
  {
   "cell_type": "code",
   "execution_count": 57,
   "id": "074cca35-dba7-44f6-9c96-db090f60d231",
   "metadata": {},
   "outputs": [],
   "source": [
    "# YOUR IMPORTS HERE"
   ]
  },
  {
   "cell_type": "markdown",
   "id": "5dcf93bb-9dbb-41d2-b469-a0a7ff490e61",
   "metadata": {},
   "source": [
    "### 1. Как Energy зависит от Danceability? Как зависит Loudness от Energy? Как эти параметры влияют на Valence?\n",
    "\n",
    "**Результат**: Код, реализующий графики:\n",
    "\n",
    "- Зависимость Energy от Danceability\n",
    "- Зависимость Loudness от Energy\n",
    "- Зависимость Valence от Energy, зависимость Valence от Danceability; в одной оси фигуры\n",
    "- Зависимость Valence от Loudness\n",
    "- Матрица корреляции Energy, Danceability, Loudness, Valence\n",
    "\n",
    "Каждый график должен иметь название, подписанные оси и, при необходимости, легенду.\n",
    "\n",
    "**Дополнительно**: Нарисовать стрелки и подписи к ним на графике, обращающие внимание на ключевые моменты, позволяющие сделать выводы о зависимостях.\n"
   ]
  },
  {
   "cell_type": "code",
   "execution_count": 58,
   "id": "58812ce7-1dfd-4144-9985-dd4891aba45b",
   "metadata": {},
   "outputs": [],
   "source": [
    "# YOUR CODE HERE"
   ]
  },
  {
   "cell_type": "markdown",
   "id": "0b1a5adc-b502-424f-a956-e9e592b1c2be",
   "metadata": {},
   "source": [
    "#### Сделайте общий вывод о том, зависит ли настроение трека (Valence) от проанализированных параметров:\n",
    "\n",
    "**Результат**: Текстовый ответ на вопрос.\n",
    "\n",
    "_YOUR ANSWER HERE_\n"
   ]
  },
  {
   "cell_type": "markdown",
   "id": "c7f666b8-1fd4-4205-8aff-03c0f239b186",
   "metadata": {},
   "source": [
    "### 2. С годами музыка становится дольше или быстрее?\n",
    "\n",
    "**Результат**: Код, реализующий графики:\n",
    "\n",
    "- Зависимость средней продолжительности трека от года, с линией тренда\n",
    "- Изменение средней продолжительности топ-5 самых длинных треков года\n",
    "- Изменение средней продолжительности топ-5 самых коротких треков года\n",
    "\n",
    "Каждый график должен иметь название, подписанные оси и, при необходимости, легенду.\n"
   ]
  },
  {
   "cell_type": "code",
   "execution_count": 59,
   "id": "9eaa3217-6919-41ed-b9f3-3adc0b751a7d",
   "metadata": {},
   "outputs": [],
   "source": [
    "# YOUR CODE HERE"
   ]
  },
  {
   "cell_type": "markdown",
   "id": "237490a9-ec02-4291-ac53-0c57fff45194",
   "metadata": {},
   "source": [
    "### 3. Как менялись популярные жанры от 2000 от 2023?\n",
    "\n",
    "**Результат**: Код, реализующий график:\n",
    "\n",
    "- 3 самых популярных по среднему значению жанра каждого года, с подписью значений\n",
    "\n",
    "График должен иметь название, подписанные оси и подпись значений\n",
    "\n",
    "**Дополнительно**: Текстовый ответ, какие жанры оказывались в топ-3 чаще всего.\n"
   ]
  },
  {
   "cell_type": "code",
   "execution_count": 60,
   "id": "af935e25-3c4f-4b63-af19-2843b0a1b506",
   "metadata": {},
   "outputs": [],
   "source": [
    "# YOUR CODE HERE"
   ]
  },
  {
   "cell_type": "markdown",
   "id": "14ef53bd-02bd-4507-8774-4c969a78d731",
   "metadata": {},
   "source": [
    "### 4. Как связаны между собой Speechiness, Acousticness и Instrumentalness?\n",
    "\n",
    "**Результат**: Код, реализующий 2 различных по типу графика. Выбранные графики должны наиболее хорошо подходить для описания зависимости между указанными параметрами.\n",
    "\n",
    "Каждый график должен иметь название, подписанные оси и, при необходимости, легенду.\n",
    "\n",
    "**Дополнительно**: Текстовый ответ, почему были выбраны именно такие графики.\n"
   ]
  },
  {
   "cell_type": "code",
   "execution_count": 61,
   "id": "50a0fe28-289c-4e9a-80f9-7d64ab4f360e",
   "metadata": {},
   "outputs": [],
   "source": [
    "# YOUR CODE HERE"
   ]
  },
  {
   "cell_type": "markdown",
   "id": "b1bfe0bd-ed3e-4069-9ec9-d8f1524f6536",
   "metadata": {},
   "source": [
    "### 5. Какое влияние размер и лад оказывают на популярность в разных жанрах?\n",
    "\n",
    "**Результат**: Код, реализующий фигуру:\n",
    "\n",
    "- Жанры для сравнения: deep-house, funk, forro, dancehall, house.\n",
    "- Точечный график для каждого жанра, отражающий среднюю популярность в зависимости от размера (time_signature) и лада (mode).\n",
    "\n",
    "Фигура должна иметь название и легенду, каждый график имеет подписанные оси и название.\n"
   ]
  },
  {
   "cell_type": "code",
   "execution_count": 62,
   "id": "ef4994a5-1965-40f2-8bb1-f64af2351e1c",
   "metadata": {},
   "outputs": [],
   "source": [
    "# YOUR CODE HERE"
   ]
  },
  {
   "cell_type": "markdown",
   "id": "16b219fc-a536-4206-85fe-7659f660ce8f",
   "metadata": {},
   "source": [
    "### 6. Как выглядят графики плотности распределения, построенные для темпа по уникальным значениям размера трека? Как выглядят графики плотности нормальных распределений по этим данным?\n",
    "\n",
    "**Результат**: Код, реализующий графики распределения темпа (tempo) для всех уникальных значений размера трека (time_signature).\n",
    "\n",
    "Фигура должна иметь название и легенду. Плотности распределения должны быть построены либо на одном графике, либо на нескольких графиках, но в рамках одной фигуры. Плотности нормального распределения должны быть построены в одной на одном графике с плотностью распределения tempo.\n",
    "\n",
    "**Дополнительно**: Код с ответом на вопрос, какие параметры (среднее и разброс) для нормальных распределений темпа для размера трека.\n"
   ]
  },
  {
   "cell_type": "code",
   "execution_count": 63,
   "id": "326d6f97-644d-4220-a6e6-4fa7145ac646",
   "metadata": {},
   "outputs": [],
   "source": [
    "# YOUR CODE HERE"
   ]
  },
  {
   "cell_type": "markdown",
   "id": "81f1b05f-59db-4e5d-bcdc-da9621b6eb5d",
   "metadata": {},
   "source": [
    "### 7. Проанализируйте популярность одного артиста (группы) с 10-100 треками на Ваш выбор.\n",
    "\n",
    "**Результат**: Код, реализующий следующие графики:\n",
    "\n",
    "- График, отражающий динамику суммарной популярности артиста год от года. Укажите стрелками с подписями, благодаря каким треками артист был на пике и на дне популярности.\n",
    "- Сопоставьте признаки для этих двух треков, в виде графиков на Ваш выбор. Укажите, какие из признаков вероятнее всего оказали наибольшее влияние на популярность выбранных треков.\n",
    "\n",
    "Графики должны находится в одной фигуре, имеющей название. Каждый график должен иметь название, подписанные оси и, при необходимости, легенду.\n"
   ]
  },
  {
   "cell_type": "code",
   "execution_count": 64,
   "id": "89ea195c-37dc-4e0d-84ec-efc3f55a1c77",
   "metadata": {},
   "outputs": [],
   "source": [
    "# YOUR CODE HERE"
   ]
  }
 ],
 "metadata": {
  "kernelspec": {
   "display_name": "machine-learning",
   "language": "python",
   "name": "python3"
  },
  "language_info": {
   "codemirror_mode": {
    "name": "ipython",
    "version": 3
   },
   "file_extension": ".py",
   "mimetype": "text/x-python",
   "name": "python",
   "nbconvert_exporter": "python",
   "pygments_lexer": "ipython3",
   "version": "3.13.7"
  }
 },
 "nbformat": 4,
 "nbformat_minor": 5
}
