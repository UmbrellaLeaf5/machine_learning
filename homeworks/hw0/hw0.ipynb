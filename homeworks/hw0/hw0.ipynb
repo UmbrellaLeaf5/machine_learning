{
 "cells": [
  {
   "cell_type": "markdown",
   "id": "a4f840a1-2549-4975-b6a5-41dba3e0d4e3",
   "metadata": {
    "id": "AGf_xvZiT0Ww"
   },
   "source": [
    "# Домашнее задание № 0\n",
    "\n",
    "Вам необходимо провести анализ данных и с помощью него ответить на поставленные вопросы.\n",
    "\n",
    "# Исходные данные\n",
    "\n",
    "Этот набор данных представляет собой описание около 1 миллиона треков с платформы Spotify. Скачайте датасет и ознакомьтесь с описанием данных в [источнике](https://www.kaggle.com/datasets/amitanshjoshi/spotify-1million-tracks/data).\n"
   ]
  },
  {
   "cell_type": "code",
   "execution_count": 206,
   "id": "4a5891dd-779a-4815-930e-411c69cd8033",
   "metadata": {
    "_cell_guid": "87372d85-e9ac-b3b3-c25d-33dfb357ccd8",
    "id": "pQ5OrqpATtVl"
   },
   "outputs": [],
   "source": [
    "import pandas as pd"
   ]
  },
  {
   "cell_type": "code",
   "execution_count": 207,
   "id": "dc6f9f35-0cff-4ffb-96f6-06269c8764ca",
   "metadata": {
    "id": "cE9FdACVcBHd"
   },
   "outputs": [],
   "source": [
    "# Читаем данные\n",
    "path = \"spotify_data.csv\"\n",
    "df = pd.read_csv(path, index_col=0)"
   ]
  },
  {
   "cell_type": "code",
   "execution_count": 208,
   "id": "c48be23c-d167-4706-9038-cd18db108f72",
   "metadata": {},
   "outputs": [
    {
     "data": {
      "application/vnd.microsoft.datawrangler.viewer.v0+json": {
       "columns": [
        {
         "name": "index",
         "rawType": "object",
         "type": "string"
        },
        {
         "name": "1288492",
         "rawType": "object",
         "type": "unknown"
        },
        {
         "name": "567497",
         "rawType": "object",
         "type": "unknown"
        },
        {
         "name": "289011",
         "rawType": "object",
         "type": "unknown"
        }
       ],
       "ref": "98f894d0-cc59-4cba-83d1-a49e1692ee3e",
       "rows": [
        [
         "artist_name",
         "Johann Sebastian Bach",
         "Tomaso Albinoni",
         "JONGHYUN"
        ],
        [
         "track_name",
         "Partita No. 6 In E Minor, BWV 830: Toccata - Live",
         "12 Trattenimenti armonici, Op. 6: No. 3 in B-Flat Major",
         "Just Chill"
        ],
        [
         "track_id",
         "1w01EomHvGib8fbj2z9mRf",
         "0LqRXwaXTRfkyXGP7gxgFp",
         "3qNeyEagP4606J5B61jHa3"
        ],
        [
         "popularity",
         "15",
         "9",
         "31"
        ],
        [
         "year",
         "2009",
         "2022",
         "2017"
        ],
        [
         "genre",
         "german",
         "opera",
         "k-pop"
        ],
        [
         "danceability",
         "0.286",
         "0.503",
         "0.66"
        ],
        [
         "energy",
         "0.191",
         "0.131",
         "0.819"
        ],
        [
         "key",
         "4",
         "10",
         "0"
        ],
        [
         "loudness",
         "-19.882",
         "-20.692",
         "-5.48"
        ],
        [
         "mode",
         "0",
         "1",
         "1"
        ],
        [
         "speechiness",
         "0.041",
         "0.0792",
         "0.0509"
        ],
        [
         "acousticness",
         "0.992",
         "0.965",
         "0.148"
        ],
        [
         "instrumentalness",
         "0.888",
         "0.945",
         "0.0"
        ],
        [
         "liveness",
         "0.12",
         "0.109",
         "0.499"
        ],
        [
         "valence",
         "0.178",
         "0.457",
         "0.486"
        ],
        [
         "tempo",
         "126.47",
         "126.082",
         "96.999"
        ],
        [
         "duration_ms",
         "439373",
         "612229",
         "205684"
        ],
        [
         "time_signature",
         "4",
         "4",
         "4"
        ]
       ],
       "shape": {
        "columns": 3,
        "rows": 19
       }
      },
      "text/html": [
       "<div>\n",
       "<style scoped>\n",
       "    .dataframe tbody tr th:only-of-type {\n",
       "        vertical-align: middle;\n",
       "    }\n",
       "\n",
       "    .dataframe tbody tr th {\n",
       "        vertical-align: top;\n",
       "    }\n",
       "\n",
       "    .dataframe thead th {\n",
       "        text-align: right;\n",
       "    }\n",
       "</style>\n",
       "<table border=\"1\" class=\"dataframe\">\n",
       "  <thead>\n",
       "    <tr style=\"text-align: right;\">\n",
       "      <th></th>\n",
       "      <th>1288492</th>\n",
       "      <th>567497</th>\n",
       "      <th>289011</th>\n",
       "    </tr>\n",
       "  </thead>\n",
       "  <tbody>\n",
       "    <tr>\n",
       "      <th>artist_name</th>\n",
       "      <td>Johann Sebastian Bach</td>\n",
       "      <td>Tomaso Albinoni</td>\n",
       "      <td>JONGHYUN</td>\n",
       "    </tr>\n",
       "    <tr>\n",
       "      <th>track_name</th>\n",
       "      <td>Partita No. 6 In E Minor, BWV 830: Toccata - Live</td>\n",
       "      <td>12 Trattenimenti armonici, Op. 6: No. 3 in B-F...</td>\n",
       "      <td>Just Chill</td>\n",
       "    </tr>\n",
       "    <tr>\n",
       "      <th>track_id</th>\n",
       "      <td>1w01EomHvGib8fbj2z9mRf</td>\n",
       "      <td>0LqRXwaXTRfkyXGP7gxgFp</td>\n",
       "      <td>3qNeyEagP4606J5B61jHa3</td>\n",
       "    </tr>\n",
       "    <tr>\n",
       "      <th>popularity</th>\n",
       "      <td>15</td>\n",
       "      <td>9</td>\n",
       "      <td>31</td>\n",
       "    </tr>\n",
       "    <tr>\n",
       "      <th>year</th>\n",
       "      <td>2009</td>\n",
       "      <td>2022</td>\n",
       "      <td>2017</td>\n",
       "    </tr>\n",
       "    <tr>\n",
       "      <th>genre</th>\n",
       "      <td>german</td>\n",
       "      <td>opera</td>\n",
       "      <td>k-pop</td>\n",
       "    </tr>\n",
       "    <tr>\n",
       "      <th>danceability</th>\n",
       "      <td>0.286</td>\n",
       "      <td>0.503</td>\n",
       "      <td>0.66</td>\n",
       "    </tr>\n",
       "    <tr>\n",
       "      <th>energy</th>\n",
       "      <td>0.191</td>\n",
       "      <td>0.131</td>\n",
       "      <td>0.819</td>\n",
       "    </tr>\n",
       "    <tr>\n",
       "      <th>key</th>\n",
       "      <td>4</td>\n",
       "      <td>10</td>\n",
       "      <td>0</td>\n",
       "    </tr>\n",
       "    <tr>\n",
       "      <th>loudness</th>\n",
       "      <td>-19.882</td>\n",
       "      <td>-20.692</td>\n",
       "      <td>-5.48</td>\n",
       "    </tr>\n",
       "    <tr>\n",
       "      <th>mode</th>\n",
       "      <td>0</td>\n",
       "      <td>1</td>\n",
       "      <td>1</td>\n",
       "    </tr>\n",
       "    <tr>\n",
       "      <th>speechiness</th>\n",
       "      <td>0.041</td>\n",
       "      <td>0.0792</td>\n",
       "      <td>0.0509</td>\n",
       "    </tr>\n",
       "    <tr>\n",
       "      <th>acousticness</th>\n",
       "      <td>0.992</td>\n",
       "      <td>0.965</td>\n",
       "      <td>0.148</td>\n",
       "    </tr>\n",
       "    <tr>\n",
       "      <th>instrumentalness</th>\n",
       "      <td>0.888</td>\n",
       "      <td>0.945</td>\n",
       "      <td>0.0</td>\n",
       "    </tr>\n",
       "    <tr>\n",
       "      <th>liveness</th>\n",
       "      <td>0.12</td>\n",
       "      <td>0.109</td>\n",
       "      <td>0.499</td>\n",
       "    </tr>\n",
       "    <tr>\n",
       "      <th>valence</th>\n",
       "      <td>0.178</td>\n",
       "      <td>0.457</td>\n",
       "      <td>0.486</td>\n",
       "    </tr>\n",
       "    <tr>\n",
       "      <th>tempo</th>\n",
       "      <td>126.47</td>\n",
       "      <td>126.082</td>\n",
       "      <td>96.999</td>\n",
       "    </tr>\n",
       "    <tr>\n",
       "      <th>duration_ms</th>\n",
       "      <td>439373</td>\n",
       "      <td>612229</td>\n",
       "      <td>205684</td>\n",
       "    </tr>\n",
       "    <tr>\n",
       "      <th>time_signature</th>\n",
       "      <td>4</td>\n",
       "      <td>4</td>\n",
       "      <td>4</td>\n",
       "    </tr>\n",
       "  </tbody>\n",
       "</table>\n",
       "</div>"
      ],
      "text/plain": [
       "                                                            1288492  \\\n",
       "artist_name                                   Johann Sebastian Bach   \n",
       "track_name        Partita No. 6 In E Minor, BWV 830: Toccata - Live   \n",
       "track_id                                     1w01EomHvGib8fbj2z9mRf   \n",
       "popularity                                                       15   \n",
       "year                                                           2009   \n",
       "genre                                                        german   \n",
       "danceability                                                  0.286   \n",
       "energy                                                        0.191   \n",
       "key                                                               4   \n",
       "loudness                                                    -19.882   \n",
       "mode                                                              0   \n",
       "speechiness                                                   0.041   \n",
       "acousticness                                                  0.992   \n",
       "instrumentalness                                              0.888   \n",
       "liveness                                                       0.12   \n",
       "valence                                                       0.178   \n",
       "tempo                                                        126.47   \n",
       "duration_ms                                                  439373   \n",
       "time_signature                                                    4   \n",
       "\n",
       "                                                            567497   \\\n",
       "artist_name                                         Tomaso Albinoni   \n",
       "track_name        12 Trattenimenti armonici, Op. 6: No. 3 in B-F...   \n",
       "track_id                                     0LqRXwaXTRfkyXGP7gxgFp   \n",
       "popularity                                                        9   \n",
       "year                                                           2022   \n",
       "genre                                                         opera   \n",
       "danceability                                                  0.503   \n",
       "energy                                                        0.131   \n",
       "key                                                              10   \n",
       "loudness                                                    -20.692   \n",
       "mode                                                              1   \n",
       "speechiness                                                  0.0792   \n",
       "acousticness                                                  0.965   \n",
       "instrumentalness                                              0.945   \n",
       "liveness                                                      0.109   \n",
       "valence                                                       0.457   \n",
       "tempo                                                       126.082   \n",
       "duration_ms                                                  612229   \n",
       "time_signature                                                    4   \n",
       "\n",
       "                                 289011   \n",
       "artist_name                     JONGHYUN  \n",
       "track_name                    Just Chill  \n",
       "track_id          3qNeyEagP4606J5B61jHa3  \n",
       "popularity                            31  \n",
       "year                                2017  \n",
       "genre                              k-pop  \n",
       "danceability                        0.66  \n",
       "energy                             0.819  \n",
       "key                                    0  \n",
       "loudness                           -5.48  \n",
       "mode                                   1  \n",
       "speechiness                       0.0509  \n",
       "acousticness                       0.148  \n",
       "instrumentalness                     0.0  \n",
       "liveness                           0.499  \n",
       "valence                            0.486  \n",
       "tempo                             96.999  \n",
       "duration_ms                       205684  \n",
       "time_signature                         4  "
      ]
     },
     "execution_count": 208,
     "metadata": {},
     "output_type": "execute_result"
    }
   ],
   "source": [
    "df.sample(3).T"
   ]
  },
  {
   "cell_type": "markdown",
   "id": "35bf8b30-dd10-4095-8a10-f36b17f92994",
   "metadata": {
    "id": "i1j9Yn9Jhz-S"
   },
   "source": [
    "# Вопросы\n"
   ]
  },
  {
   "cell_type": "markdown",
   "id": "472ca155-a65f-45f0-99cd-cb3ff2fc21e8",
   "metadata": {},
   "source": [
    "## Анализ данных\n",
    "\n",
    "С помощью работы с типом данных DataFrame из библиотеки pandas ответье на поставленные вопросы\n"
   ]
  },
  {
   "cell_type": "code",
   "execution_count": 209,
   "id": "f46e9e90-d219-4d73-a73c-d7f906469e7b",
   "metadata": {},
   "outputs": [],
   "source": [
    "import numpy as np\n",
    "import matplotlib.pyplot as plt\n",
    "import seaborn as sns\n",
    "from scipy import stats"
   ]
  },
  {
   "cell_type": "markdown",
   "id": "f0a05171-95d4-4051-8710-f2df20ead9fb",
   "metadata": {},
   "source": [
    "### 1. Сколько уникальных исполнителей и сколько уникальных жанров содержится в датасете?\n",
    "\n",
    "**Результат**: Код и текстовый ответ на вопрос в формате\n",
    "\n",
    "```\n",
    "Уникальных исполнителей: <ответ>\n",
    "Уникальных жанров: <ответ>\n",
    "```\n"
   ]
  },
  {
   "cell_type": "code",
   "execution_count": 210,
   "id": "7170ea54-484a-41a8-8be7-bcc309fdead0",
   "metadata": {},
   "outputs": [
    {
     "name": "stdout",
     "output_type": "stream",
     "text": [
      "Уникальных исполнителей: 64158\n",
      "Уникальных жанров: 82\n"
     ]
    }
   ],
   "source": [
    "unique_artists = df[\"artist_name\"].nunique()\n",
    "unique_genres = df[\"genre\"].nunique()\n",
    "\n",
    "print(f\"Уникальных исполнителей: {unique_artists}\")\n",
    "print(f\"Уникальных жанров: {unique_genres}\")"
   ]
  },
  {
   "cell_type": "markdown",
   "id": "948d2a73-09bf-43c3-ad7b-6a00cacaaf48",
   "metadata": {},
   "source": [
    "### 2. Есть ли в данных пропуски? Если да, предложите способ их заполнения и реализуйте его\n",
    "\n",
    "**Результат**: Код и текстовый ответ на вопрос в формате\n",
    "\n",
    "```\n",
    "Для каждого столбца в таблице\n",
    "<Название столбца> - <Сколько пропусков> - <Описание способа заполнения> (Если были пропуски)\n",
    "```\n"
   ]
  },
  {
   "cell_type": "code",
   "execution_count": 211,
   "id": "cd606c12-207f-423b-b241-a9981a80cb95",
   "metadata": {},
   "outputs": [
    {
     "name": "stdout",
     "output_type": "stream",
     "text": [
      "Проверка пропусков в данных:\n",
      "artist_name         15\n",
      "track_name           1\n",
      "track_id             0\n",
      "popularity           0\n",
      "year                 0\n",
      "genre                0\n",
      "danceability         0\n",
      "energy               0\n",
      "key                  0\n",
      "loudness             0\n",
      "mode                 0\n",
      "speechiness          0\n",
      "acousticness         0\n",
      "instrumentalness     0\n",
      "liveness             0\n",
      "valence              0\n",
      "tempo                0\n",
      "duration_ms          0\n",
      "time_signature       0\n",
      "dtype: int64 \n",
      "\n"
     ]
    }
   ],
   "source": [
    "print(\"Проверка пропусков в данных:\")\n",
    "print(df.isna().sum(), \"\\n\")"
   ]
  },
  {
   "cell_type": "markdown",
   "id": "6345a790",
   "metadata": {},
   "source": [
    "Как так получилось, что в данных Spotify у 15 треков пропущен исполнитель, а у одного трека просто нет названия??\n",
    "\n",
    "Я решил проверить вручную, что же там такое\n"
   ]
  },
  {
   "cell_type": "code",
   "execution_count": 212,
   "id": "85d80e77",
   "metadata": {},
   "outputs": [],
   "source": [
    "def MakeSpotifyLinkByTrackId(track_id: str) -> str:\n",
    "  prefix: str = \"https://open.spotify.com/track/\"\n",
    "  return f\"{prefix}{track_id}\""
   ]
  },
  {
   "cell_type": "code",
   "execution_count": 213,
   "id": "69bef15e",
   "metadata": {},
   "outputs": [
    {
     "name": "stdout",
     "output_type": "stream",
     "text": [
      "Строки с пропущенными artist_name:\n",
      "       artist_name              track_name                track_id  \\\n",
      "256971         NaN                    Cold  10eyeJsKDh26SKEBvSfuBG   \n",
      "256972         NaN                  Wither  6xz1O7tOw6Tdvzc3Ev1isc   \n",
      "257024         NaN                  Suffer  6hedSqpvIaW0GzrqJnq32D   \n",
      "313028         NaN  A World, Dead and Gray  7shu4LrpMTsGwa8YotA1My   \n",
      "313050         NaN                 Hypoxic  3V8qpQnLVhu82ZvC4Ja8VG   \n",
      "\n",
      "        popularity  year        genre  danceability  energy  key  loudness  \\\n",
      "256971          17  2017  black-metal         0.212   0.708    7    -6.932   \n",
      "256972          16  2017  black-metal         0.317   0.518    9    -7.418   \n",
      "257024          14  2017  black-metal         0.109   0.142    2   -11.807   \n",
      "313028          26  2018  black-metal         0.377   0.507    7   -14.889   \n",
      "313050          24  2018  black-metal         0.341   0.426   11   -17.450   \n",
      "\n",
      "        mode  speechiness  acousticness  instrumentalness  liveness  valence  \\\n",
      "256971     1       0.2180      0.000201             0.906     0.143   0.0381   \n",
      "256972     1       0.0650      0.000258             0.855     0.729   0.0747   \n",
      "257024     0       0.0439      0.154000             0.879     0.105   0.0350   \n",
      "313028     1       0.0448      0.000103             0.931     0.211   0.3380   \n",
      "313050     0       0.0496      0.038000             0.848     0.113   0.0404   \n",
      "\n",
      "          tempo  duration_ms  time_signature  \n",
      "256971  126.739       717237               4  \n",
      "256972  110.958       525099               4  \n",
      "257024   57.422       565664               3  \n",
      "313028  113.917       466182               4  \n",
      "313050   66.628       418945               4  \n",
      "\n",
      "Строки с пропущенными track_name:\n",
      "          artist_name track_name                track_id  popularity  year  \\\n",
      "1048553  The Duskfall        NaN  2Q5cMgzptSupzvvWtZTyVg           8  2005   \n",
      "\n",
      "           genre  danceability  energy  key  loudness  mode  speechiness  \\\n",
      "1048553  swedish         0.366   0.942    7    -5.425     1       0.0882   \n",
      "\n",
      "         acousticness  instrumentalness  liveness  valence   tempo  \\\n",
      "1048553      0.000006            0.0219     0.129   0.0724  88.689   \n",
      "\n",
      "         duration_ms  time_signature  \n",
      "1048553       281533               4  \n"
     ]
    }
   ],
   "source": [
    "missing_artist = df[df[\"artist_name\"].isna()]\n",
    "print(\"Строки с пропущенными artist_name:\")\n",
    "print(missing_artist.head())\n",
    "\n",
    "missing_track = df[df[\"track_name\"].isna()]\n",
    "print(\"\\nСтроки с пропущенными track_name:\")\n",
    "print(missing_track.head())"
   ]
  },
  {
   "cell_type": "code",
   "execution_count": 214,
   "id": "b40d92a6",
   "metadata": {},
   "outputs": [
    {
     "name": "stdout",
     "output_type": "stream",
     "text": [
      "https://open.spotify.com/track/10eyeJsKDh26SKEBvSfuBG\n",
      "https://open.spotify.com/track/6xz1O7tOw6Tdvzc3Ev1isc\n",
      "https://open.spotify.com/track/6hedSqpvIaW0GzrqJnq32D\n",
      "https://open.spotify.com/track/7shu4LrpMTsGwa8YotA1My\n",
      "https://open.spotify.com/track/3V8qpQnLVhu82ZvC4Ja8VG\n",
      "https://open.spotify.com/track/68w6nJMmA9Ui6zV7qXrwIt\n",
      "https://open.spotify.com/track/1NJ8HTD5syI65EJmXUckxB\n",
      "https://open.spotify.com/track/4zcJ5p91PSG3vDsGJfENDd\n",
      "https://open.spotify.com/track/6375ZIE3Pi8BuZOuy8f6g1\n",
      "https://open.spotify.com/track/0VCAJwhy4p3tVaGUSnaWGr\n",
      "https://open.spotify.com/track/1SanRTG8EZRb9U1V4NUSKp\n",
      "https://open.spotify.com/track/773j5fNWIjO0EWqAiX8Quo\n",
      "https://open.spotify.com/track/7K0hyoMx2UZMf173FSUFnY\n",
      "https://open.spotify.com/track/7ItLwpnDJNmnmjlx4hOC96\n",
      "https://open.spotify.com/track/58NSB7DmCpMa7pAsfBCG5t\n",
      "https://open.spotify.com/track/2Q5cMgzptSupzvvWtZTyVg\n"
     ]
    }
   ],
   "source": [
    "for track_id in missing_artist[\"track_id\"]:\n",
    "  print(MakeSpotifyLinkByTrackId(track_id))\n",
    "\n",
    "for track_id in missing_track[\"track_id\"]:\n",
    "  print(MakeSpotifyLinkByTrackId(track_id))"
   ]
  },
  {
   "cell_type": "markdown",
   "id": "2565f05c",
   "metadata": {},
   "source": [
    "Выяснилось, что это действительно группа с названием None и трек с именованием None...\n",
    "\n",
    "![Cold - None](./ColdNone.png)\n",
    "![None - The Duskfall](./NoneTheDuskfall.png)\n",
    "\n",
    "Так что по сути пропусков нету, просто имеются названия None\n"
   ]
  },
  {
   "cell_type": "markdown",
   "id": "ff5fa1ce-fc67-4865-88a1-5834f1919e27",
   "metadata": {},
   "source": [
    "### 3. Есть ли признаки, которые не отвечают указанным в описании ограничениям? Если есть, то замените их\n",
    "\n",
    "**Результат**: Код и текстовый ответ на вопрос в формате\n",
    "\n",
    "```\n",
    "Для каждого столбца в таблице\n",
    "<Название столбца> - <Сколько не соответствующих ограничениям данных> - <Описание способа замены> (Если были некорректные данные)\n",
    "```\n"
   ]
  },
  {
   "cell_type": "code",
   "execution_count": 215,
   "id": "06f5ee4c-bf8f-4bee-928e-2493ed496a66",
   "metadata": {},
   "outputs": [],
   "source": [
    "# YOUR CODE HERE"
   ]
  },
  {
   "cell_type": "markdown",
   "id": "720ed6f9-87ea-4f1f-b73c-48ee5aaad9f1",
   "metadata": {},
   "source": [
    "## Визуальный анализ\n",
    "\n",
    "Ответом на вопрос должен быть график или несколько графиков в одной фигуре (картинке), с минимальной подписью\n"
   ]
  },
  {
   "cell_type": "code",
   "execution_count": 216,
   "id": "074cca35-dba7-44f6-9c96-db090f60d231",
   "metadata": {},
   "outputs": [],
   "source": [
    "# YOUR IMPORTS HERE"
   ]
  },
  {
   "cell_type": "markdown",
   "id": "5dcf93bb-9dbb-41d2-b469-a0a7ff490e61",
   "metadata": {},
   "source": [
    "### 1. Как Energy зависит от Danceability? Как зависит Loudness от Energy? Как эти параметры влияют на Valence?\n",
    "\n",
    "**Результат**: Код, реализующий графики:\n",
    "\n",
    "- Зависимость Energy от Danceability\n",
    "- Зависимость Loudness от Energy\n",
    "- Зависимость Valence от Energy, зависимость Valence от Danceability; в одной оси фигуры\n",
    "- Зависимость Valence от Loudness\n",
    "- Матрица корреляции Energy, Danceability, Loudness, Valence\n",
    "\n",
    "Каждый график должен иметь название, подписанные оси и, при необходимости, легенду.\n",
    "\n",
    "**Дополнительно**: Нарисовать стрелки и подписи к ним на графике, обращающие внимание на ключевые моменты, позволяющие сделать выводы о зависимостях.\n"
   ]
  },
  {
   "cell_type": "code",
   "execution_count": 217,
   "id": "58812ce7-1dfd-4144-9985-dd4891aba45b",
   "metadata": {},
   "outputs": [],
   "source": [
    "# YOUR CODE HERE"
   ]
  },
  {
   "cell_type": "markdown",
   "id": "0b1a5adc-b502-424f-a956-e9e592b1c2be",
   "metadata": {},
   "source": [
    "#### Сделайте общий вывод о том, зависит ли настроение трека (Valence) от проанализированных параметров:\n",
    "\n",
    "**Результат**: Текстовый ответ на вопрос.\n",
    "\n",
    "_YOUR ANSWER HERE_\n"
   ]
  },
  {
   "cell_type": "markdown",
   "id": "c7f666b8-1fd4-4205-8aff-03c0f239b186",
   "metadata": {},
   "source": [
    "### 2. С годами музыка становится дольше или быстрее?\n",
    "\n",
    "**Результат**: Код, реализующий графики:\n",
    "\n",
    "- Зависимость средней продолжительности трека от года, с линией тренда\n",
    "- Изменение средней продолжительности топ-5 самых длинных треков года\n",
    "- Изменение средней продолжительности топ-5 самых коротких треков года\n",
    "\n",
    "Каждый график должен иметь название, подписанные оси и, при необходимости, легенду.\n"
   ]
  },
  {
   "cell_type": "code",
   "execution_count": 218,
   "id": "9eaa3217-6919-41ed-b9f3-3adc0b751a7d",
   "metadata": {},
   "outputs": [],
   "source": [
    "# YOUR CODE HERE"
   ]
  },
  {
   "cell_type": "markdown",
   "id": "237490a9-ec02-4291-ac53-0c57fff45194",
   "metadata": {},
   "source": [
    "### 3. Как менялись популярные жанры от 2000 от 2023?\n",
    "\n",
    "**Результат**: Код, реализующий график:\n",
    "\n",
    "- 3 самых популярных по среднему значению жанра каждого года, с подписью значений\n",
    "\n",
    "График должен иметь название, подписанные оси и подпись значений\n",
    "\n",
    "**Дополнительно**: Текстовый ответ, какие жанры оказывались в топ-3 чаще всего.\n"
   ]
  },
  {
   "cell_type": "code",
   "execution_count": 219,
   "id": "af935e25-3c4f-4b63-af19-2843b0a1b506",
   "metadata": {},
   "outputs": [],
   "source": [
    "# YOUR CODE HERE"
   ]
  },
  {
   "cell_type": "markdown",
   "id": "14ef53bd-02bd-4507-8774-4c969a78d731",
   "metadata": {},
   "source": [
    "### 4. Как связаны между собой Speechiness, Acousticness и Instrumentalness?\n",
    "\n",
    "**Результат**: Код, реализующий 2 различных по типу графика. Выбранные графики должны наиболее хорошо подходить для описания зависимости между указанными параметрами.\n",
    "\n",
    "Каждый график должен иметь название, подписанные оси и, при необходимости, легенду.\n",
    "\n",
    "**Дополнительно**: Текстовый ответ, почему были выбраны именно такие графики.\n"
   ]
  },
  {
   "cell_type": "code",
   "execution_count": 220,
   "id": "50a0fe28-289c-4e9a-80f9-7d64ab4f360e",
   "metadata": {},
   "outputs": [],
   "source": [
    "# YOUR CODE HERE"
   ]
  },
  {
   "cell_type": "markdown",
   "id": "b1bfe0bd-ed3e-4069-9ec9-d8f1524f6536",
   "metadata": {},
   "source": [
    "### 5. Какое влияние размер и лад оказывают на популярность в разных жанрах?\n",
    "\n",
    "**Результат**: Код, реализующий фигуру:\n",
    "\n",
    "- Жанры для сравнения: deep-house, funk, forro, dancehall, house.\n",
    "- Точечный график для каждого жанра, отражающий среднюю популярность в зависимости от размера (time_signature) и лада (mode).\n",
    "\n",
    "Фигура должна иметь название и легенду, каждый график имеет подписанные оси и название.\n"
   ]
  },
  {
   "cell_type": "code",
   "execution_count": 221,
   "id": "ef4994a5-1965-40f2-8bb1-f64af2351e1c",
   "metadata": {},
   "outputs": [],
   "source": [
    "# YOUR CODE HERE"
   ]
  },
  {
   "cell_type": "markdown",
   "id": "16b219fc-a536-4206-85fe-7659f660ce8f",
   "metadata": {},
   "source": [
    "### 6. Как выглядят графики плотности распределения, построенные для темпа по уникальным значениям размера трека? Как выглядят графики плотности нормальных распределений по этим данным?\n",
    "\n",
    "**Результат**: Код, реализующий графики распределения темпа (tempo) для всех уникальных значений размера трека (time_signature).\n",
    "\n",
    "Фигура должна иметь название и легенду. Плотности распределения должны быть построены либо на одном графике, либо на нескольких графиках, но в рамках одной фигуры. Плотности нормального распределения должны быть построены в одной на одном графике с плотностью распределения tempo.\n",
    "\n",
    "**Дополнительно**: Код с ответом на вопрос, какие параметры (среднее и разброс) для нормальных распределений темпа для размера трека.\n"
   ]
  },
  {
   "cell_type": "code",
   "execution_count": 222,
   "id": "326d6f97-644d-4220-a6e6-4fa7145ac646",
   "metadata": {},
   "outputs": [],
   "source": [
    "# YOUR CODE HERE"
   ]
  },
  {
   "cell_type": "markdown",
   "id": "81f1b05f-59db-4e5d-bcdc-da9621b6eb5d",
   "metadata": {},
   "source": [
    "### 7. Проанализируйте популярность одного артиста (группы) с 10-100 треками на Ваш выбор.\n",
    "\n",
    "**Результат**: Код, реализующий следующие графики:\n",
    "\n",
    "- График, отражающий динамику суммарной популярности артиста год от года. Укажите стрелками с подписями, благодаря каким треками артист был на пике и на дне популярности.\n",
    "- Сопоставьте признаки для этих двух треков, в виде графиков на Ваш выбор. Укажите, какие из признаков вероятнее всего оказали наибольшее влияние на популярность выбранных треков.\n",
    "\n",
    "Графики должны находится в одной фигуре, имеющей название. Каждый график должен иметь название, подписанные оси и, при необходимости, легенду.\n"
   ]
  },
  {
   "cell_type": "code",
   "execution_count": 223,
   "id": "89ea195c-37dc-4e0d-84ec-efc3f55a1c77",
   "metadata": {},
   "outputs": [],
   "source": [
    "# YOUR CODE HERE"
   ]
  }
 ],
 "metadata": {
  "kernelspec": {
   "display_name": "machine-learning",
   "language": "python",
   "name": "python3"
  },
  "language_info": {
   "codemirror_mode": {
    "name": "ipython",
    "version": 3
   },
   "file_extension": ".py",
   "mimetype": "text/x-python",
   "name": "python",
   "nbconvert_exporter": "python",
   "pygments_lexer": "ipython3",
   "version": "3.13.7"
  }
 },
 "nbformat": 4,
 "nbformat_minor": 5
}
